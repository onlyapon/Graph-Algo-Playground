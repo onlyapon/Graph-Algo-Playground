{
 "cells": [
  {
   "cell_type": "code",
   "execution_count": 2,
   "id": "dbce610b-74b4-4354-aed6-4a201a587c70",
   "metadata": {},
   "outputs": [],
   "source": [
    "from collections import deque\n"
   ]
  },
  {
   "cell_type": "code",
   "execution_count": 54,
   "id": "5e7db843-8d85-4164-b3b5-758a10535b5b",
   "metadata": {},
   "outputs": [],
   "source": [
    "def dfs(graph,start_node,visited,lis):\n",
    "    lis.append(start_node)\n",
    "    \n",
    "    visited.add(start_node)\n",
    "    \n",
    "    for value in graph[start_node]:\n",
    "        if value not in visited:\n",
    "            dfs(graph,value,visited,lis)\n",
    "    return lis"
   ]
  },
  {
   "cell_type": "code",
   "execution_count": 58,
   "id": "1872490a-b75f-4081-bb88-be92a914786f",
   "metadata": {},
   "outputs": [
    {
     "name": "stdout",
     "output_type": "stream",
     "text": [
      "['A', 'B', 'C', 'E', 'D']\n"
     ]
    }
   ],
   "source": [
    "visited=set()\n",
    "lis=[]\n",
    "graph={\n",
    "    'A':['B','E'],\n",
    "    'B':['C'],\n",
    "    'C':['E','D'],\n",
    "    'D':['C','E'],\n",
    "    'E':['A','C','D']\n",
    "}\n",
    "\n",
    "print(dfs(graph,'A',visited,lis))"
   ]
  },
  {
   "cell_type": "code",
   "execution_count": null,
   "id": "9d95a5d5-902d-4e06-bd6b-37c5dede75db",
   "metadata": {},
   "outputs": [],
   "source": [
    "    a\n",
    "b      e\n",
    "    /\n",
    "c      d"
   ]
  }
 ],
 "metadata": {
  "kernelspec": {
   "display_name": "Python 3 (ipykernel)",
   "language": "python",
   "name": "python3"
  },
  "language_info": {
   "codemirror_mode": {
    "name": "ipython",
    "version": 3
   },
   "file_extension": ".py",
   "mimetype": "text/x-python",
   "name": "python",
   "nbconvert_exporter": "python",
   "pygments_lexer": "ipython3",
   "version": "3.11.7"
  }
 },
 "nbformat": 4,
 "nbformat_minor": 5
}
