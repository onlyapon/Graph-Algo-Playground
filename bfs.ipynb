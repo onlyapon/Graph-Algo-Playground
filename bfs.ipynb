{
 "cells": [
  {
   "cell_type": "code",
   "execution_count": 13,
   "id": "e5698051-022a-4f12-a985-f30f48205e5f",
   "metadata": {},
   "outputs": [],
   "source": [
    "from collections import deque "
   ]
  },
  {
   "cell_type": "code",
   "execution_count": 109,
   "id": "0f541af4-4c87-4614-81f5-f04af89bda99",
   "metadata": {},
   "outputs": [],
   "source": [
    "def bfs(graph,start_node):\n",
    "    visited=set()\n",
    "    visited.add(start_node)\n",
    "    queue=deque()\n",
    "    queue.append(start_node)\n",
    "    lis=[]\n",
    "    \n",
    "    while queue:\n",
    "        \n",
    "        \n",
    "        current=queue.popleft()\n",
    "        lis.append(current)\n",
    "        \n",
    "        \n",
    "\n",
    "        \n",
    "        for i in graph[current]:\n",
    "            if i not in visited:\n",
    "                queue.append(i)\n",
    "                visited.add(i)\n",
    "                \n",
    "                \n",
    "                    \n",
    "    return lis"
   ]
  },
  {
   "cell_type": "code",
   "execution_count": 111,
   "id": "76484521-6fa1-4ba7-89a8-214df98037e2",
   "metadata": {},
   "outputs": [
    {
     "name": "stdout",
     "output_type": "stream",
     "text": [
      "['A', 'B', 'E', 'C', 'D']\n"
     ]
    }
   ],
   "source": [
    "graph={\n",
    "    'A':['B','E'],\n",
    "    'B':['C'],\n",
    "    'C':['E','D'],\n",
    "    'D':['C','E'],\n",
    "    'E':['A','C','D']\n",
    "}\n",
    "\n",
    "print(bfs(graph,'A'))"
   ]
  }
 ],
 "metadata": {
  "kernelspec": {
   "display_name": "Python 3 (ipykernel)",
   "language": "python",
   "name": "python3"
  },
  "language_info": {
   "codemirror_mode": {
    "name": "ipython",
    "version": 3
   },
   "file_extension": ".py",
   "mimetype": "text/x-python",
   "name": "python",
   "nbconvert_exporter": "python",
   "pygments_lexer": "ipython3",
   "version": "3.11.7"
  }
 },
 "nbformat": 4,
 "nbformat_minor": 5
}
